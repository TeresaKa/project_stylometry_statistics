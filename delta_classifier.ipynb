{
 "cells": [
  {
   "cell_type": "code",
   "execution_count": 20,
   "metadata": {},
   "outputs": [],
   "source": [
    "import pandas as pd\n",
    "import numpy as np\n",
    "\n",
    "from sklearn.linear_model import LogisticRegression, LogisticRegressionCV\n",
    "from sklearn.preprocessing import LabelEncoder\n",
    "from sklearn.preprocessing import MinMaxScaler\n",
    "from sklearn.model_selection import cross_val_score, cross_val_predict, GridSearchCV, train_test_split, cross_validate\n",
    "from sklearn.metrics import confusion_matrix, accuracy_score, precision_score, recall_score, f1_score\n",
    "\n",
    "import seaborn as sns\n",
    "import matplotlib.pyplot as plt"
   ]
  },
  {
   "cell_type": "code",
   "execution_count": 40,
   "metadata": {},
   "outputs": [],
   "source": [
    "def evaluation():\n",
    "    predictions = model.predict(X_test)\n",
    "\n",
    "    recall = np.around(recall_score(y_test, predictions, average='micro'), decimals=3)\n",
    "    precision = np.around(precision_score(y_test, predictions, average='micro'), decimals=3)\n",
    "    f1 = np.around(f1_score(y_test, predictions, average=\"micro\"), decimals=3)\n",
    "\n",
    "    return recall, precision, f1"
   ]
  },
  {
   "cell_type": "code",
   "execution_count": 41,
   "metadata": {},
   "outputs": [],
   "source": [
    "def save_predicted_data_into_structured_df(df, model):\n",
    "    recall, precision, f1 = evaluation()\n",
    "    return df.append({'model':model, 'recall':recall, 'precision':precision, 'f1':f1}, ignore_index=True)\n",
    "\n",
    "bal_scores = pd.DataFrame(columns=['model', 'recall', 'precision', 'f1'])"
   ]
  },
  {
   "cell_type": "code",
   "execution_count": 85,
   "metadata": {},
   "outputs": [],
   "source": [
    "def cnf_matrix(cls):\n",
    "    predictions = model.predict(X_test)\n",
    "    cnf = confusion_matrix(y_test, predictions)\n",
    "    ax= plt.subplot()\n",
    "    plt.figure(figsize=(5,5))  \n",
    "    sns.heatmap(cnf, annot=True, cmap=sns.color_palette(\"Blues\"), ax = ax, fmt='d'); #annot=True to annotate cells\n",
    "\n",
    "    # labels, title and ticks\n",
    "    ax.set_xlabel('Predicted labels')\n",
    "    ax.set_ylabel('True labels')\n",
    "    ax.set_title('Confusion Matrix')\n",
    "    ax.xaxis.set_ticklabels(cls)\n",
    "    ax.yaxis.set_ticklabels(cls)"
   ]
  },
  {
   "cell_type": "code",
   "execution_count": 5,
   "metadata": {},
   "outputs": [
    {
     "data": {
      "text/html": [
       "<div>\n",
       "<style scoped>\n",
       "    .dataframe tbody tr th:only-of-type {\n",
       "        vertical-align: middle;\n",
       "    }\n",
       "\n",
       "    .dataframe tbody tr th {\n",
       "        vertical-align: top;\n",
       "    }\n",
       "\n",
       "    .dataframe thead th {\n",
       "        text-align: right;\n",
       "    }\n",
       "</style>\n",
       "<table border=\"1\" class=\"dataframe\">\n",
       "  <thead>\n",
       "    <tr style=\"text-align: right;\">\n",
       "      <th></th>\n",
       "      <th>Unnamed: 0</th>\n",
       "      <th>manhattan</th>\n",
       "      <th>cosine</th>\n",
       "      <th>euclidean</th>\n",
       "      <th>label</th>\n",
       "      <th>author</th>\n",
       "    </tr>\n",
       "  </thead>\n",
       "  <tbody>\n",
       "    <tr>\n",
       "      <td>0</td>\n",
       "      <td>Schopenhauer,-Johanna_Richard Wood.txt</td>\n",
       "      <td>0.00</td>\n",
       "      <td>0.00</td>\n",
       "      <td>0.00</td>\n",
       "      <td>same</td>\n",
       "      <td>Schopenhauer</td>\n",
       "    </tr>\n",
       "    <tr>\n",
       "      <td>1</td>\n",
       "      <td>Schopenhauer,-Johanna_Die Tante.txt</td>\n",
       "      <td>1249.57</td>\n",
       "      <td>0.49</td>\n",
       "      <td>40.74</td>\n",
       "      <td>same</td>\n",
       "      <td>Schopenhauer</td>\n",
       "    </tr>\n",
       "    <tr>\n",
       "      <td>2</td>\n",
       "      <td>Schopenhauer,-Johanna_Gabriele.txt</td>\n",
       "      <td>1346.51</td>\n",
       "      <td>0.53</td>\n",
       "      <td>44.11</td>\n",
       "      <td>same</td>\n",
       "      <td>Schopenhauer</td>\n",
       "    </tr>\n",
       "    <tr>\n",
       "      <td>3</td>\n",
       "      <td>Gutzkow,-Karl_Die Ritter vom Geiste.txt</td>\n",
       "      <td>1570.48</td>\n",
       "      <td>1.04</td>\n",
       "      <td>49.39</td>\n",
       "      <td>different</td>\n",
       "      <td>Gutzkow</td>\n",
       "    </tr>\n",
       "    <tr>\n",
       "      <td>4</td>\n",
       "      <td>Gutzkow,-Karl_Der Zauberer von Rom.txt</td>\n",
       "      <td>1595.14</td>\n",
       "      <td>0.96</td>\n",
       "      <td>50.85</td>\n",
       "      <td>different</td>\n",
       "      <td>Gutzkow</td>\n",
       "    </tr>\n",
       "    <tr>\n",
       "      <td>...</td>\n",
       "      <td>...</td>\n",
       "      <td>...</td>\n",
       "      <td>...</td>\n",
       "      <td>...</td>\n",
       "      <td>...</td>\n",
       "      <td>...</td>\n",
       "    </tr>\n",
       "    <tr>\n",
       "      <td>5924</td>\n",
       "      <td>Fontane,-Theodor_Irrungen Wirrungen.txt</td>\n",
       "      <td>2601.44</td>\n",
       "      <td>1.16</td>\n",
       "      <td>82.71</td>\n",
       "      <td>different</td>\n",
       "      <td>Fontane</td>\n",
       "    </tr>\n",
       "    <tr>\n",
       "      <td>5925</td>\n",
       "      <td>Fischer,-Caroline-Auguste_Gustavs Verirrungen.txt</td>\n",
       "      <td>2610.78</td>\n",
       "      <td>0.98</td>\n",
       "      <td>83.27</td>\n",
       "      <td>different</td>\n",
       "      <td>Fischer</td>\n",
       "    </tr>\n",
       "    <tr>\n",
       "      <td>5926</td>\n",
       "      <td>Freytag,-Gustav_Die Ahnen.txt</td>\n",
       "      <td>2630.41</td>\n",
       "      <td>1.19</td>\n",
       "      <td>81.60</td>\n",
       "      <td>different</td>\n",
       "      <td>Freytag</td>\n",
       "    </tr>\n",
       "    <tr>\n",
       "      <td>5927</td>\n",
       "      <td>Marlitt,-Eugenie_Die Frau mit den Karfunkelste...</td>\n",
       "      <td>2673.07</td>\n",
       "      <td>1.27</td>\n",
       "      <td>82.10</td>\n",
       "      <td>different</td>\n",
       "      <td>Marlitt</td>\n",
       "    </tr>\n",
       "    <tr>\n",
       "      <td>5928</td>\n",
       "      <td>Marlitt,-_UNBEKANNT.txt</td>\n",
       "      <td>2695.39</td>\n",
       "      <td>1.28</td>\n",
       "      <td>83.78</td>\n",
       "      <td>different</td>\n",
       "      <td>Marlitt</td>\n",
       "    </tr>\n",
       "  </tbody>\n",
       "</table>\n",
       "<p>5929 rows × 6 columns</p>\n",
       "</div>"
      ],
      "text/plain": [
       "                                             Unnamed: 0  manhattan  cosine  \\\n",
       "0                Schopenhauer,-Johanna_Richard Wood.txt       0.00    0.00   \n",
       "1                   Schopenhauer,-Johanna_Die Tante.txt    1249.57    0.49   \n",
       "2                    Schopenhauer,-Johanna_Gabriele.txt    1346.51    0.53   \n",
       "3               Gutzkow,-Karl_Die Ritter vom Geiste.txt    1570.48    1.04   \n",
       "4                Gutzkow,-Karl_Der Zauberer von Rom.txt    1595.14    0.96   \n",
       "...                                                 ...        ...     ...   \n",
       "5924            Fontane,-Theodor_Irrungen Wirrungen.txt    2601.44    1.16   \n",
       "5925  Fischer,-Caroline-Auguste_Gustavs Verirrungen.txt    2610.78    0.98   \n",
       "5926                      Freytag,-Gustav_Die Ahnen.txt    2630.41    1.19   \n",
       "5927  Marlitt,-Eugenie_Die Frau mit den Karfunkelste...    2673.07    1.27   \n",
       "5928                            Marlitt,-_UNBEKANNT.txt    2695.39    1.28   \n",
       "\n",
       "      euclidean      label        author  \n",
       "0          0.00       same  Schopenhauer  \n",
       "1         40.74       same  Schopenhauer  \n",
       "2         44.11       same  Schopenhauer  \n",
       "3         49.39  different       Gutzkow  \n",
       "4         50.85  different       Gutzkow  \n",
       "...         ...        ...           ...  \n",
       "5924      82.71  different       Fontane  \n",
       "5925      83.27  different       Fischer  \n",
       "5926      81.60  different       Freytag  \n",
       "5927      82.10  different       Marlitt  \n",
       "5928      83.78  different       Marlitt  \n",
       "\n",
       "[5929 rows x 6 columns]"
      ]
     },
     "execution_count": 5,
     "metadata": {},
     "output_type": "execute_result"
    }
   ],
   "source": [
    "data = pd.DataFrame(pd.read_csv('DE_attribution'))\n",
    "data"
   ]
  },
  {
   "cell_type": "code",
   "execution_count": 32,
   "metadata": {
    "scrolled": true
   },
   "outputs": [
    {
     "data": {
      "text/plain": [
       "array([[0.  ],\n",
       "       [0.49],\n",
       "       [0.53],\n",
       "       ...,\n",
       "       [1.19],\n",
       "       [1.27],\n",
       "       [1.28]])"
      ]
     },
     "execution_count": 32,
     "metadata": {},
     "output_type": "execute_result"
    }
   ],
   "source": [
    "X = data['cosine'].values.reshape(-1,1)\n",
    "y = data['label']"
   ]
  },
  {
   "cell_type": "code",
   "execution_count": 35,
   "metadata": {},
   "outputs": [
    {
     "data": {
      "text/plain": [
       "array([[0.        ],\n",
       "       [0.37121212],\n",
       "       [0.40151515],\n",
       "       ...,\n",
       "       [0.90151515],\n",
       "       [0.96212121],\n",
       "       [0.96969697]])"
      ]
     },
     "execution_count": 35,
     "metadata": {},
     "output_type": "execute_result"
    }
   ],
   "source": [
    "scaler = MinMaxScaler()\n",
    "X = scaler.fit_transform(X)\n",
    "X"
   ]
  },
  {
   "cell_type": "code",
   "execution_count": 36,
   "metadata": {},
   "outputs": [],
   "source": [
    "y = LabelEncoder().fit_transform(data['label'])"
   ]
  },
  {
   "cell_type": "code",
   "execution_count": 37,
   "metadata": {},
   "outputs": [
    {
     "name": "stdout",
     "output_type": "stream",
     "text": [
      "(5929, 1)\n"
     ]
    },
    {
     "data": {
      "text/plain": [
       "(5929,)"
      ]
     },
     "execution_count": 37,
     "metadata": {},
     "output_type": "execute_result"
    }
   ],
   "source": [
    "print(X.shape)\n",
    "y.shape"
   ]
  },
  {
   "cell_type": "code",
   "execution_count": 38,
   "metadata": {},
   "outputs": [
    {
     "name": "stderr",
     "output_type": "stream",
     "text": [
      "/home/teresa/anaconda3/lib/python3.7/site-packages/sklearn/linear_model/logistic.py:432: FutureWarning: Default solver will be changed to 'lbfgs' in 0.22. Specify a solver to silence this warning.\n",
      "  FutureWarning)\n"
     ]
    }
   ],
   "source": [
    "logreg = LogisticRegression()\n",
    "\n",
    "X_train, X_test, y_train, y_test = train_test_split(X, y, test_size=0.2, random_state=42)\n",
    "\n",
    "model = logreg.fit(X_train, y_train)"
   ]
  },
  {
   "cell_type": "code",
   "execution_count": 42,
   "metadata": {},
   "outputs": [
    {
     "data": {
      "text/html": [
       "<div>\n",
       "<style scoped>\n",
       "    .dataframe tbody tr th:only-of-type {\n",
       "        vertical-align: middle;\n",
       "    }\n",
       "\n",
       "    .dataframe tbody tr th {\n",
       "        vertical-align: top;\n",
       "    }\n",
       "\n",
       "    .dataframe thead th {\n",
       "        text-align: right;\n",
       "    }\n",
       "</style>\n",
       "<table border=\"1\" class=\"dataframe\">\n",
       "  <thead>\n",
       "    <tr style=\"text-align: right;\">\n",
       "      <th></th>\n",
       "      <th>model</th>\n",
       "      <th>recall</th>\n",
       "      <th>precision</th>\n",
       "      <th>f1</th>\n",
       "    </tr>\n",
       "  </thead>\n",
       "  <tbody>\n",
       "    <tr>\n",
       "      <td>0</td>\n",
       "      <td>Logistic Regression</td>\n",
       "      <td>0.988</td>\n",
       "      <td>0.988</td>\n",
       "      <td>0.988</td>\n",
       "    </tr>\n",
       "  </tbody>\n",
       "</table>\n",
       "</div>"
      ],
      "text/plain": [
       "                 model  recall  precision     f1\n",
       "0  Logistic Regression   0.988      0.988  0.988"
      ]
     },
     "execution_count": 42,
     "metadata": {},
     "output_type": "execute_result"
    }
   ],
   "source": [
    "bal_scores = save_predicted_data_into_structured_df(bal_scores, 'Logistic Regression')\n",
    "bal_scores"
   ]
  },
  {
   "cell_type": "code",
   "execution_count": 66,
   "metadata": {},
   "outputs": [],
   "source": [
    "cls = np.unique(data['label'])"
   ]
  },
  {
   "cell_type": "code",
   "execution_count": 86,
   "metadata": {},
   "outputs": [
    {
     "data": {
      "image/png": "[encoded data removed]",
      "text/plain": [
       "<Figure size 432x288 with 2 Axes>"
      ]
     },
     "metadata": {
      "needs_background": "light"
     },
     "output_type": "display_data"
    },
    {
     "data": {
      "text/plain": [
       "<Figure size 360x360 with 0 Axes>"
      ]
     },
     "metadata": {},
     "output_type": "display_data"
    }
   ],
   "source": [
    "cnf_matrix(cls)"
   ]
  },
  {
   "cell_type": "code",
   "execution_count": 49,
   "metadata": {},
   "outputs": [
    {
     "data": {
      "text/plain": [
       "array([[1150,    1],\n",
       "       [  13,   22]])"
      ]
     },
     "execution_count": 49,
     "metadata": {},
     "output_type": "execute_result"
    }
   ],
   "source": [
    "cnf"
   ]
  },
  {
   "cell_type": "code",
   "execution_count": null,
   "metadata": {},
   "outputs": [],
   "source": []
  }
 ],
 "metadata": {
  "kernelspec": {
   "display_name": "Python 3",
   "language": "python",
   "name": "python3"
  },
  "language_info": {
   "codemirror_mode": {
    "name": "ipython",
    "version": 3
   },
   "file_extension": ".py",
   "mimetype": "text/x-python",
   "name": "python",
   "nbconvert_exporter": "python",
   "pygments_lexer": "ipython3",
   "version": "3.7.4"
  }
 },
 "nbformat": 4,
 "nbformat_minor": 2
}
