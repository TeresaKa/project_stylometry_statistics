{
 "cells": [
  {
   "cell_type": "code",
   "execution_count": 16,
   "metadata": {},
   "outputs": [],
   "source": [
    "import pandas as pd "
   ]
  },
  {
   "cell_type": "code",
   "execution_count": 17,
   "metadata": {},
   "outputs": [
    {
     "data": {
      "text/html": [
       "<div>\n",
       "<style scoped>\n",
       "    .dataframe tbody tr th:only-of-type {\n",
       "        vertical-align: middle;\n",
       "    }\n",
       "\n",
       "    .dataframe tbody tr th {\n",
       "        vertical-align: top;\n",
       "    }\n",
       "\n",
       "    .dataframe thead th {\n",
       "        text-align: right;\n",
       "    }\n",
       "</style>\n",
       "<table border=\"1\" class=\"dataframe\">\n",
       "  <thead>\n",
       "    <tr style=\"text-align: right;\">\n",
       "      <th></th>\n",
       "      <th>Unnamed: 0</th>\n",
       "      <th>manhattan</th>\n",
       "      <th>cosine</th>\n",
       "      <th>euclidean</th>\n",
       "      <th>author</th>\n",
       "    </tr>\n",
       "  </thead>\n",
       "  <tbody>\n",
       "    <tr>\n",
       "      <td>0</td>\n",
       "      <td>Kafka,-Franz_Der Prozess.txt</td>\n",
       "      <td>0.00</td>\n",
       "      <td>0.00</td>\n",
       "      <td>0.00</td>\n",
       "      <td>Kafka</td>\n",
       "    </tr>\n",
       "    <tr>\n",
       "      <td>1</td>\n",
       "      <td>Kafka,-Franz_Amerika.txt</td>\n",
       "      <td>1252.18</td>\n",
       "      <td>0.42</td>\n",
       "      <td>44.45</td>\n",
       "      <td>Kafka</td>\n",
       "    </tr>\n",
       "    <tr>\n",
       "      <td>2</td>\n",
       "      <td>Kafka,-Franz_Das Schloss.txt</td>\n",
       "      <td>1299.67</td>\n",
       "      <td>0.44</td>\n",
       "      <td>46.27</td>\n",
       "      <td>Kafka</td>\n",
       "    </tr>\n",
       "    <tr>\n",
       "      <td>3</td>\n",
       "      <td>Wassermann,-Jakob_Christian Wahnschaffe.txt</td>\n",
       "      <td>1781.20</td>\n",
       "      <td>0.89</td>\n",
       "      <td>56.86</td>\n",
       "      <td>Wassermann</td>\n",
       "    </tr>\n",
       "    <tr>\n",
       "      <td>4</td>\n",
       "      <td>Gutzkow,-Karl_Die Ritter vom Geiste.txt</td>\n",
       "      <td>1783.63</td>\n",
       "      <td>0.98</td>\n",
       "      <td>55.97</td>\n",
       "      <td>Gutzkow</td>\n",
       "    </tr>\n",
       "    <tr>\n",
       "      <td>...</td>\n",
       "      <td>...</td>\n",
       "      <td>...</td>\n",
       "      <td>...</td>\n",
       "      <td>...</td>\n",
       "      <td>...</td>\n",
       "    </tr>\n",
       "    <tr>\n",
       "      <td>72</td>\n",
       "      <td>Wieland,-Christoph-Martin_Geschichte des Agath...</td>\n",
       "      <td>2499.95</td>\n",
       "      <td>1.08</td>\n",
       "      <td>80.29</td>\n",
       "      <td>Wieland</td>\n",
       "    </tr>\n",
       "    <tr>\n",
       "      <td>73</td>\n",
       "      <td>Fischer,-Caroline-Auguste_Die Honigmonathe.txt</td>\n",
       "      <td>2503.31</td>\n",
       "      <td>1.05</td>\n",
       "      <td>78.92</td>\n",
       "      <td>Fischer</td>\n",
       "    </tr>\n",
       "    <tr>\n",
       "      <td>74</td>\n",
       "      <td>Lewald,-Fanny_Clementine.txt</td>\n",
       "      <td>2542.80</td>\n",
       "      <td>1.13</td>\n",
       "      <td>79.99</td>\n",
       "      <td>Lewald</td>\n",
       "    </tr>\n",
       "    <tr>\n",
       "      <td>75</td>\n",
       "      <td>Fischer,-Caroline-Auguste_Gustavs Verirrungen.txt</td>\n",
       "      <td>2576.86</td>\n",
       "      <td>1.05</td>\n",
       "      <td>80.64</td>\n",
       "      <td>Fischer</td>\n",
       "    </tr>\n",
       "    <tr>\n",
       "      <td>76</td>\n",
       "      <td>Huber,-Therese_Luise.txt</td>\n",
       "      <td>2647.38</td>\n",
       "      <td>1.09</td>\n",
       "      <td>85.23</td>\n",
       "      <td>Huber</td>\n",
       "    </tr>\n",
       "  </tbody>\n",
       "</table>\n",
       "<p>77 rows × 5 columns</p>\n",
       "</div>"
      ],
      "text/plain": [
       "                                           Unnamed: 0  manhattan  cosine  \\\n",
       "0                        Kafka,-Franz_Der Prozess.txt       0.00    0.00   \n",
       "1                            Kafka,-Franz_Amerika.txt    1252.18    0.42   \n",
       "2                        Kafka,-Franz_Das Schloss.txt    1299.67    0.44   \n",
       "3         Wassermann,-Jakob_Christian Wahnschaffe.txt    1781.20    0.89   \n",
       "4             Gutzkow,-Karl_Die Ritter vom Geiste.txt    1783.63    0.98   \n",
       "..                                                ...        ...     ...   \n",
       "72  Wieland,-Christoph-Martin_Geschichte des Agath...    2499.95    1.08   \n",
       "73     Fischer,-Caroline-Auguste_Die Honigmonathe.txt    2503.31    1.05   \n",
       "74                       Lewald,-Fanny_Clementine.txt    2542.80    1.13   \n",
       "75  Fischer,-Caroline-Auguste_Gustavs Verirrungen.txt    2576.86    1.05   \n",
       "76                           Huber,-Therese_Luise.txt    2647.38    1.09   \n",
       "\n",
       "    euclidean      author  \n",
       "0        0.00       Kafka  \n",
       "1       44.45       Kafka  \n",
       "2       46.27       Kafka  \n",
       "3       56.86  Wassermann  \n",
       "4       55.97     Gutzkow  \n",
       "..        ...         ...  \n",
       "72      80.29     Wieland  \n",
       "73      78.92     Fischer  \n",
       "74      79.99      Lewald  \n",
       "75      80.64     Fischer  \n",
       "76      85.23       Huber  \n",
       "\n",
       "[77 rows x 5 columns]"
      ]
     },
     "execution_count": 17,
     "metadata": {},
     "output_type": "execute_result"
    }
   ],
   "source": [
    "df = pd.DataFrame(pd.read_csv('Kafka,-Franz_Der Prozess.txt.csv'))\n",
    "df"
   ]
  },
  {
   "cell_type": "code",
   "execution_count": 3,
   "metadata": {},
   "outputs": [],
   "source": [
    "import seaborn as sns"
   ]
  },
  {
   "cell_type": "code",
   "execution_count": 13,
   "metadata": {},
   "outputs": [
    {
     "data": {
      "text/plain": [
       "<matplotlib.axes._subplots.AxesSubplot at 0x7f1566dae890>"
      ]
     },
     "execution_count": 13,
     "metadata": {},
     "output_type": "execute_result"
    },
    {
     "data": {
      "image/png": "[encoded data removed]",
      "text/plain": [
       "<Figure size 432x288 with 1 Axes>"
      ]
     },
     "metadata": {
      "needs_background": "light"
     },
     "output_type": "display_data"
    }
   ],
   "source": [
    "sns.scatterplot(df.index,df[\"manhattan\"])"
   ]
  },
  {
   "cell_type": "code",
   "execution_count": 14,
   "metadata": {},
   "outputs": [
    {
     "data": {
      "text/plain": [
       "<matplotlib.axes._subplots.AxesSubplot at 0x7f1561dfc490>"
      ]
     },
     "execution_count": 14,
     "metadata": {},
     "output_type": "execute_result"
    },
    {
     "data": {
      "image/png": "[encoded data removed]",
      "text/plain": [
       "<Figure size 432x288 with 1 Axes>"
      ]
     },
     "metadata": {
      "needs_background": "light"
     },
     "output_type": "display_data"
    }
   ],
   "source": [
    "sns.scatterplot(df.index,df[\"cosine\"])"
   ]
  },
  {
   "cell_type": "code",
   "execution_count": 15,
   "metadata": {},
   "outputs": [
    {
     "data": {
      "text/plain": [
       "<matplotlib.axes._subplots.AxesSubplot at 0x7f1561ca84d0>"
      ]
     },
     "execution_count": 15,
     "metadata": {},
     "output_type": "execute_result"
    },
    {
     "data": {
      "image/png": "[encoded data removed]",
      "text/plain": [
       "<Figure size 432x288 with 1 Axes>"
      ]
     },
     "metadata": {
      "needs_background": "light"
     },
     "output_type": "display_data"
    }
   ],
   "source": [
    "sns.scatterplot(df.index,df[\"euclidean\"])"
   ]
  },
  {
   "cell_type": "code",
   "execution_count": 10,
   "metadata": {},
   "outputs": [],
   "source": [
    "import matplotlib.pyplot as plt"
   ]
  },
  {
   "cell_type": "code",
   "execution_count": 11,
   "metadata": {},
   "outputs": [
    {
     "data": {
      "image/png": "[encoded data removed]",
      "text/plain": [
       "<Figure size 432x288 with 1 Axes>"
      ]
     },
     "metadata": {
      "needs_background": "light"
     },
     "output_type": "display_data"
    }
   ],
   "source": [
    "plt.figure()\n",
    "ax = sns.distplot(df['cosine'])\n",
    "ax.set(ylabel='Count')\n",
    "plt.show()\n",
    "#zsc"
   ]
  },
  {
   "cell_type": "code",
   "execution_count": null,
   "metadata": {},
   "outputs": [],
   "source": []
  }
 ],
 "metadata": {
  "kernelspec": {
   "display_name": "Python 3",
   "language": "python",
   "name": "python3"
  },
  "language_info": {
   "codemirror_mode": {
    "name": "ipython",
    "version": 3
   },
   "file_extension": ".py",
   "mimetype": "text/x-python",
   "name": "python",
   "nbconvert_exporter": "python",
   "pygments_lexer": "ipython3",
   "version": "3.7.4"
  }
 },
 "nbformat": 4,
 "nbformat_minor": 2
}
