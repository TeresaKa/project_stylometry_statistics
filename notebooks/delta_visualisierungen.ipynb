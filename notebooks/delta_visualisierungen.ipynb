{
 "cells": [
  {
   "cell_type": "code",
   "execution_count": 9,
   "metadata": {},
   "outputs": [],
   "source": [
    "import pandas as pd \n",
    "import matplotlib.pyplot as plt\n",
    "import seaborn as sns"
   ]
  },
  {
   "cell_type": "code",
   "execution_count": 12,
   "metadata": {},
   "outputs": [
    {
     "data": {
      "text/html": [
       "<div>\n",
       "<style scoped>\n",
       "    .dataframe tbody tr th:only-of-type {\n",
       "        vertical-align: middle;\n",
       "    }\n",
       "\n",
       "    .dataframe tbody tr th {\n",
       "        vertical-align: top;\n",
       "    }\n",
       "\n",
       "    .dataframe thead th {\n",
       "        text-align: right;\n",
       "    }\n",
       "</style>\n",
       "<table border=\"1\" class=\"dataframe\">\n",
       "  <thead>\n",
       "    <tr style=\"text-align: right;\">\n",
       "      <th></th>\n",
       "      <th>und</th>\n",
       "      <th>die</th>\n",
       "      <th>der</th>\n",
       "      <th>sie</th>\n",
       "      <th>ich</th>\n",
       "      <th>zu</th>\n",
       "      <th>in</th>\n",
       "      <th>er</th>\n",
       "      <th>das</th>\n",
       "      <th>den</th>\n",
       "    </tr>\n",
       "  </thead>\n",
       "  <tbody>\n",
       "    <tr>\n",
       "      <td>Schopenhauer,-Johanna_Richard Wood.txt</td>\n",
       "      <td>-1.204178</td>\n",
       "      <td>-1.358369</td>\n",
       "      <td>-0.617420</td>\n",
       "      <td>-0.952940</td>\n",
       "      <td>-0.686278</td>\n",
       "      <td>1.427257</td>\n",
       "      <td>1.272582</td>\n",
       "      <td>0.143555</td>\n",
       "      <td>-1.219155</td>\n",
       "      <td>-0.719525</td>\n",
       "    </tr>\n",
       "    <tr>\n",
       "      <td>Kafka,-Franz_Amerika.txt</td>\n",
       "      <td>-0.562087</td>\n",
       "      <td>-0.351373</td>\n",
       "      <td>0.205411</td>\n",
       "      <td>-0.442175</td>\n",
       "      <td>-0.479154</td>\n",
       "      <td>-0.188781</td>\n",
       "      <td>-0.510145</td>\n",
       "      <td>1.279963</td>\n",
       "      <td>-0.206535</td>\n",
       "      <td>0.129089</td>\n",
       "    </tr>\n",
       "    <tr>\n",
       "      <td>Francois,-Louise-von_Stufenjahre eines Gluecklichen.txt</td>\n",
       "      <td>-0.784238</td>\n",
       "      <td>0.294701</td>\n",
       "      <td>1.304414</td>\n",
       "      <td>-0.724487</td>\n",
       "      <td>-1.038897</td>\n",
       "      <td>-0.680648</td>\n",
       "      <td>1.148291</td>\n",
       "      <td>0.277310</td>\n",
       "      <td>0.404437</td>\n",
       "      <td>0.399305</td>\n",
       "    </tr>\n",
       "    <tr>\n",
       "      <td>Fischer,-Caroline-Auguste_Gustavs Verirrungen.txt</td>\n",
       "      <td>-0.687640</td>\n",
       "      <td>-2.044862</td>\n",
       "      <td>-2.296636</td>\n",
       "      <td>1.513675</td>\n",
       "      <td>3.161318</td>\n",
       "      <td>0.483719</td>\n",
       "      <td>-1.726539</td>\n",
       "      <td>-0.845417</td>\n",
       "      <td>-0.278554</td>\n",
       "      <td>-1.902560</td>\n",
       "    </tr>\n",
       "    <tr>\n",
       "      <td>Wassermann,-Jakob_Das Gaensemaennchen.txt</td>\n",
       "      <td>0.725479</td>\n",
       "      <td>0.876645</td>\n",
       "      <td>-0.106068</td>\n",
       "      <td>0.687374</td>\n",
       "      <td>-1.065897</td>\n",
       "      <td>-0.429560</td>\n",
       "      <td>0.265677</td>\n",
       "      <td>2.207133</td>\n",
       "      <td>0.005308</td>\n",
       "      <td>0.392870</td>\n",
       "    </tr>\n",
       "    <tr>\n",
       "      <td>Wieland,-Christoph-Martin_Aristipp und einige seiner Zeitgenossen.txt</td>\n",
       "      <td>-0.204303</td>\n",
       "      <td>-0.186174</td>\n",
       "      <td>-0.003470</td>\n",
       "      <td>-1.442173</td>\n",
       "      <td>-0.218879</td>\n",
       "      <td>2.492815</td>\n",
       "      <td>0.123676</td>\n",
       "      <td>-1.161509</td>\n",
       "      <td>-1.736392</td>\n",
       "      <td>-0.063764</td>\n",
       "    </tr>\n",
       "    <tr>\n",
       "      <td>Kafka,-Franz_Der Prozess.txt</td>\n",
       "      <td>-1.477497</td>\n",
       "      <td>-0.383944</td>\n",
       "      <td>0.592874</td>\n",
       "      <td>-0.020034</td>\n",
       "      <td>-0.211406</td>\n",
       "      <td>0.164022</td>\n",
       "      <td>-1.523486</td>\n",
       "      <td>2.495243</td>\n",
       "      <td>-0.148670</td>\n",
       "      <td>0.418462</td>\n",
       "    </tr>\n",
       "    <tr>\n",
       "      <td>Marlitt,-Eugenie_Die Frau mit den Karfunkelsteinen.txt</td>\n",
       "      <td>0.575675</td>\n",
       "      <td>1.564765</td>\n",
       "      <td>0.552804</td>\n",
       "      <td>-0.038871</td>\n",
       "      <td>-0.739173</td>\n",
       "      <td>-1.205237</td>\n",
       "      <td>0.426754</td>\n",
       "      <td>-0.508916</td>\n",
       "      <td>2.042423</td>\n",
       "      <td>1.278901</td>\n",
       "    </tr>\n",
       "    <tr>\n",
       "      <td>Fouque,-Caroline-de-la-Motte_Magie der Natur.txt</td>\n",
       "      <td>0.186306</td>\n",
       "      <td>0.683677</td>\n",
       "      <td>0.349529</td>\n",
       "      <td>0.868025</td>\n",
       "      <td>-1.110632</td>\n",
       "      <td>-0.093878</td>\n",
       "      <td>1.075559</td>\n",
       "      <td>-0.503857</td>\n",
       "      <td>0.853969</td>\n",
       "      <td>-0.174608</td>\n",
       "    </tr>\n",
       "    <tr>\n",
       "      <td>Huber,-Therese_Ellen Percy.txt</td>\n",
       "      <td>-1.726352</td>\n",
       "      <td>-0.662572</td>\n",
       "      <td>-0.961749</td>\n",
       "      <td>-0.018751</td>\n",
       "      <td>1.363009</td>\n",
       "      <td>2.430236</td>\n",
       "      <td>-0.114456</td>\n",
       "      <td>-1.699713</td>\n",
       "      <td>-1.159085</td>\n",
       "      <td>-0.760844</td>\n",
       "    </tr>\n",
       "  </tbody>\n",
       "</table>\n",
       "</div>"
      ],
      "text/plain": [
       "                                                         und       die  \\\n",
       "Schopenhauer,-Johanna_Richard Wood.txt             -1.204178 -1.358369   \n",
       "Kafka,-Franz_Amerika.txt                           -0.562087 -0.351373   \n",
       "Francois,-Louise-von_Stufenjahre eines Glueckli... -0.784238  0.294701   \n",
       "Fischer,-Caroline-Auguste_Gustavs Verirrungen.txt  -0.687640 -2.044862   \n",
       "Wassermann,-Jakob_Das Gaensemaennchen.txt           0.725479  0.876645   \n",
       "Wieland,-Christoph-Martin_Aristipp und einige s... -0.204303 -0.186174   \n",
       "Kafka,-Franz_Der Prozess.txt                       -1.477497 -0.383944   \n",
       "Marlitt,-Eugenie_Die Frau mit den Karfunkelstei...  0.575675  1.564765   \n",
       "Fouque,-Caroline-de-la-Motte_Magie der Natur.txt    0.186306  0.683677   \n",
       "Huber,-Therese_Ellen Percy.txt                     -1.726352 -0.662572   \n",
       "\n",
       "                                                         der       sie  \\\n",
       "Schopenhauer,-Johanna_Richard Wood.txt             -0.617420 -0.952940   \n",
       "Kafka,-Franz_Amerika.txt                            0.205411 -0.442175   \n",
       "Francois,-Louise-von_Stufenjahre eines Glueckli...  1.304414 -0.724487   \n",
       "Fischer,-Caroline-Auguste_Gustavs Verirrungen.txt  -2.296636  1.513675   \n",
       "Wassermann,-Jakob_Das Gaensemaennchen.txt          -0.106068  0.687374   \n",
       "Wieland,-Christoph-Martin_Aristipp und einige s... -0.003470 -1.442173   \n",
       "Kafka,-Franz_Der Prozess.txt                        0.592874 -0.020034   \n",
       "Marlitt,-Eugenie_Die Frau mit den Karfunkelstei...  0.552804 -0.038871   \n",
       "Fouque,-Caroline-de-la-Motte_Magie der Natur.txt    0.349529  0.868025   \n",
       "Huber,-Therese_Ellen Percy.txt                     -0.961749 -0.018751   \n",
       "\n",
       "                                                         ich        zu  \\\n",
       "Schopenhauer,-Johanna_Richard Wood.txt             -0.686278  1.427257   \n",
       "Kafka,-Franz_Amerika.txt                           -0.479154 -0.188781   \n",
       "Francois,-Louise-von_Stufenjahre eines Glueckli... -1.038897 -0.680648   \n",
       "Fischer,-Caroline-Auguste_Gustavs Verirrungen.txt   3.161318  0.483719   \n",
       "Wassermann,-Jakob_Das Gaensemaennchen.txt          -1.065897 -0.429560   \n",
       "Wieland,-Christoph-Martin_Aristipp und einige s... -0.218879  2.492815   \n",
       "Kafka,-Franz_Der Prozess.txt                       -0.211406  0.164022   \n",
       "Marlitt,-Eugenie_Die Frau mit den Karfunkelstei... -0.739173 -1.205237   \n",
       "Fouque,-Caroline-de-la-Motte_Magie der Natur.txt   -1.110632 -0.093878   \n",
       "Huber,-Therese_Ellen Percy.txt                      1.363009  2.430236   \n",
       "\n",
       "                                                          in        er  \\\n",
       "Schopenhauer,-Johanna_Richard Wood.txt              1.272582  0.143555   \n",
       "Kafka,-Franz_Amerika.txt                           -0.510145  1.279963   \n",
       "Francois,-Louise-von_Stufenjahre eines Glueckli...  1.148291  0.277310   \n",
       "Fischer,-Caroline-Auguste_Gustavs Verirrungen.txt  -1.726539 -0.845417   \n",
       "Wassermann,-Jakob_Das Gaensemaennchen.txt           0.265677  2.207133   \n",
       "Wieland,-Christoph-Martin_Aristipp und einige s...  0.123676 -1.161509   \n",
       "Kafka,-Franz_Der Prozess.txt                       -1.523486  2.495243   \n",
       "Marlitt,-Eugenie_Die Frau mit den Karfunkelstei...  0.426754 -0.508916   \n",
       "Fouque,-Caroline-de-la-Motte_Magie der Natur.txt    1.075559 -0.503857   \n",
       "Huber,-Therese_Ellen Percy.txt                     -0.114456 -1.699713   \n",
       "\n",
       "                                                         das       den  \n",
       "Schopenhauer,-Johanna_Richard Wood.txt             -1.219155 -0.719525  \n",
       "Kafka,-Franz_Amerika.txt                           -0.206535  0.129089  \n",
       "Francois,-Louise-von_Stufenjahre eines Glueckli...  0.404437  0.399305  \n",
       "Fischer,-Caroline-Auguste_Gustavs Verirrungen.txt  -0.278554 -1.902560  \n",
       "Wassermann,-Jakob_Das Gaensemaennchen.txt           0.005308  0.392870  \n",
       "Wieland,-Christoph-Martin_Aristipp und einige s... -1.736392 -0.063764  \n",
       "Kafka,-Franz_Der Prozess.txt                       -0.148670  0.418462  \n",
       "Marlitt,-Eugenie_Die Frau mit den Karfunkelstei...  2.042423  1.278901  \n",
       "Fouque,-Caroline-de-la-Motte_Magie der Natur.txt    0.853969 -0.174608  \n",
       "Huber,-Therese_Ellen Percy.txt                     -1.159085 -0.760844  "
      ]
     },
     "execution_count": 12,
     "metadata": {},
     "output_type": "execute_result"
    }
   ],
   "source": [
    "#zscores, entire corpus\n",
    "\n",
    "zscores = pd.read_hdf('corpusDE.h5')\n",
    "zscores.iloc[0:10,0:10]"
   ]
  },
  {
   "cell_type": "code",
   "execution_count": 41,
   "metadata": {},
   "outputs": [
    {
     "data": {
      "text/html": [
       "<div>\n",
       "<style scoped>\n",
       "    .dataframe tbody tr th:only-of-type {\n",
       "        vertical-align: middle;\n",
       "    }\n",
       "\n",
       "    .dataframe tbody tr th {\n",
       "        vertical-align: top;\n",
       "    }\n",
       "\n",
       "    .dataframe thead th {\n",
       "        text-align: right;\n",
       "    }\n",
       "</style>\n",
       "<table border=\"1\" class=\"dataframe\">\n",
       "  <thead>\n",
       "    <tr style=\"text-align: right;\">\n",
       "      <th></th>\n",
       "      <th>Unnamed: 0</th>\n",
       "      <th>manhattan</th>\n",
       "      <th>cosine</th>\n",
       "      <th>euclidean</th>\n",
       "      <th>author</th>\n",
       "    </tr>\n",
       "  </thead>\n",
       "  <tbody>\n",
       "    <tr>\n",
       "      <td>0</td>\n",
       "      <td>Kafka,-Franz_Der Prozess.txt</td>\n",
       "      <td>0.00</td>\n",
       "      <td>0.00</td>\n",
       "      <td>0.00</td>\n",
       "      <td>Kafka</td>\n",
       "    </tr>\n",
       "    <tr>\n",
       "      <td>1</td>\n",
       "      <td>Kafka,-Franz_Amerika.txt</td>\n",
       "      <td>1252.18</td>\n",
       "      <td>0.42</td>\n",
       "      <td>44.45</td>\n",
       "      <td>Kafka</td>\n",
       "    </tr>\n",
       "    <tr>\n",
       "      <td>2</td>\n",
       "      <td>Kafka,-Franz_Das Schloss.txt</td>\n",
       "      <td>1299.67</td>\n",
       "      <td>0.44</td>\n",
       "      <td>46.27</td>\n",
       "      <td>Kafka</td>\n",
       "    </tr>\n",
       "    <tr>\n",
       "      <td>3</td>\n",
       "      <td>Wassermann,-Jakob_Christian Wahnschaffe.txt</td>\n",
       "      <td>1781.20</td>\n",
       "      <td>0.89</td>\n",
       "      <td>56.86</td>\n",
       "      <td>Wassermann</td>\n",
       "    </tr>\n",
       "    <tr>\n",
       "      <td>4</td>\n",
       "      <td>Gutzkow,-Karl_Die Ritter vom Geiste.txt</td>\n",
       "      <td>1783.63</td>\n",
       "      <td>0.98</td>\n",
       "      <td>55.97</td>\n",
       "      <td>Gutzkow</td>\n",
       "    </tr>\n",
       "    <tr>\n",
       "      <td>...</td>\n",
       "      <td>...</td>\n",
       "      <td>...</td>\n",
       "      <td>...</td>\n",
       "      <td>...</td>\n",
       "      <td>...</td>\n",
       "    </tr>\n",
       "    <tr>\n",
       "      <td>72</td>\n",
       "      <td>Wieland,-Christoph-Martin_Geschichte des Agath...</td>\n",
       "      <td>2499.95</td>\n",
       "      <td>1.08</td>\n",
       "      <td>80.29</td>\n",
       "      <td>Wieland</td>\n",
       "    </tr>\n",
       "    <tr>\n",
       "      <td>73</td>\n",
       "      <td>Fischer,-Caroline-Auguste_Die Honigmonathe.txt</td>\n",
       "      <td>2503.31</td>\n",
       "      <td>1.05</td>\n",
       "      <td>78.92</td>\n",
       "      <td>Fischer</td>\n",
       "    </tr>\n",
       "    <tr>\n",
       "      <td>74</td>\n",
       "      <td>Lewald,-Fanny_Clementine.txt</td>\n",
       "      <td>2542.80</td>\n",
       "      <td>1.13</td>\n",
       "      <td>79.99</td>\n",
       "      <td>Lewald</td>\n",
       "    </tr>\n",
       "    <tr>\n",
       "      <td>75</td>\n",
       "      <td>Fischer,-Caroline-Auguste_Gustavs Verirrungen.txt</td>\n",
       "      <td>2576.86</td>\n",
       "      <td>1.05</td>\n",
       "      <td>80.64</td>\n",
       "      <td>Fischer</td>\n",
       "    </tr>\n",
       "    <tr>\n",
       "      <td>76</td>\n",
       "      <td>Huber,-Therese_Luise.txt</td>\n",
       "      <td>2647.38</td>\n",
       "      <td>1.09</td>\n",
       "      <td>85.23</td>\n",
       "      <td>Huber</td>\n",
       "    </tr>\n",
       "  </tbody>\n",
       "</table>\n",
       "<p>77 rows × 5 columns</p>\n",
       "</div>"
      ],
      "text/plain": [
       "                                           Unnamed: 0  manhattan  cosine  \\\n",
       "0                        Kafka,-Franz_Der Prozess.txt       0.00    0.00   \n",
       "1                            Kafka,-Franz_Amerika.txt    1252.18    0.42   \n",
       "2                        Kafka,-Franz_Das Schloss.txt    1299.67    0.44   \n",
       "3         Wassermann,-Jakob_Christian Wahnschaffe.txt    1781.20    0.89   \n",
       "4             Gutzkow,-Karl_Die Ritter vom Geiste.txt    1783.63    0.98   \n",
       "..                                                ...        ...     ...   \n",
       "72  Wieland,-Christoph-Martin_Geschichte des Agath...    2499.95    1.08   \n",
       "73     Fischer,-Caroline-Auguste_Die Honigmonathe.txt    2503.31    1.05   \n",
       "74                       Lewald,-Fanny_Clementine.txt    2542.80    1.13   \n",
       "75  Fischer,-Caroline-Auguste_Gustavs Verirrungen.txt    2576.86    1.05   \n",
       "76                           Huber,-Therese_Luise.txt    2647.38    1.09   \n",
       "\n",
       "    euclidean      author  \n",
       "0        0.00       Kafka  \n",
       "1       44.45       Kafka  \n",
       "2       46.27       Kafka  \n",
       "3       56.86  Wassermann  \n",
       "4       55.97     Gutzkow  \n",
       "..        ...         ...  \n",
       "72      80.29     Wieland  \n",
       "73      78.92     Fischer  \n",
       "74      79.99      Lewald  \n",
       "75      80.64     Fischer  \n",
       "76      85.23       Huber  \n",
       "\n",
       "[77 rows x 5 columns]"
      ]
     },
     "execution_count": 41,
     "metadata": {},
     "output_type": "execute_result"
    }
   ],
   "source": [
    "#distance calculation for one specific text\n",
    "\n",
    "df = pd.DataFrame(pd.read_csv('Kafka,-Franz_Der Prozess.txt.csv'))\n",
    "df"
   ]
  },
  {
   "cell_type": "code",
   "execution_count": 37,
   "metadata": {},
   "outputs": [
    {
     "data": {
      "text/plain": [
       "<matplotlib.axes._subplots.AxesSubplot at 0x7fdf92d08f10>"
      ]
     },
     "execution_count": 37,
     "metadata": {},
     "output_type": "execute_result"
    },
    {
     "data": {
      "image/png": "[encoded data removed]",
      "text/plain": [
       "<Figure size 432x288 with 1 Axes>"
      ]
     },
     "metadata": {
      "needs_background": "light"
     },
     "output_type": "display_data"
    }
   ],
   "source": [
    "#visualising delta scores for above calculations\n",
    "\n",
    "sns.scatterplot(df.index, df[\"manhattan\"], hue=df['manhattan'], palette='plasma')"
   ]
  },
  {
   "cell_type": "code",
   "execution_count": 39,
   "metadata": {},
   "outputs": [
    {
     "data": {
      "text/plain": [
       "<matplotlib.axes._subplots.AxesSubplot at 0x7fdf90138f10>"
      ]
     },
     "execution_count": 39,
     "metadata": {},
     "output_type": "execute_result"
    },
    {
     "data": {
      "image/png": "[encoded data removed]",
      "text/plain": [
       "<Figure size 432x288 with 1 Axes>"
      ]
     },
     "metadata": {
      "needs_background": "light"
     },
     "output_type": "display_data"
    }
   ],
   "source": [
    "sns.scatterplot(df.index,df[\"cosine\"], hue=df['cosine'], palette='magma')"
   ]
  },
  {
   "cell_type": "code",
   "execution_count": 27,
   "metadata": {},
   "outputs": [
    {
     "data": {
      "text/plain": [
       "<matplotlib.axes._subplots.AxesSubplot at 0x7fdf905c7450>"
      ]
     },
     "execution_count": 27,
     "metadata": {},
     "output_type": "execute_result"
    },
    {
     "data": {
      "image/png": "[encoded data removed]",
      "text/plain": [
       "<Figure size 432x288 with 1 Axes>"
      ]
     },
     "metadata": {
      "needs_background": "light"
     },
     "output_type": "display_data"
    }
   ],
   "source": [
    "sns.scatterplot(df.index,df[\"euclidean\"], hue=df['euclidean'], palette='Set2')"
   ]
  },
  {
   "cell_type": "code",
   "execution_count": 44,
   "metadata": {},
   "outputs": [
    {
     "data": {
      "image/png": "[encoded data removed]",
      "text/plain": [
       "<Figure size 432x288 with 1 Axes>"
      ]
     },
     "metadata": {
      "needs_background": "light"
     },
     "output_type": "display_data"
    }
   ],
   "source": [
    "#normal distribution of cosine values for above delta calculation\n",
    "\n",
    "plt.figure()\n",
    "ax = sns.distplot(df['cosine'])\n",
    "ax.set(ylabel='Count')\n",
    "plt.show()"
   ]
  },
  {
   "cell_type": "code",
   "execution_count": null,
   "metadata": {},
   "outputs": [],
   "source": []
  }
 ],
 "metadata": {
  "kernelspec": {
   "display_name": "Python 3",
   "language": "python",
   "name": "python3"
  },
  "language_info": {
   "codemirror_mode": {
    "name": "ipython",
    "version": 3
   },
   "file_extension": ".py",
   "mimetype": "text/x-python",
   "name": "python",
   "nbconvert_exporter": "python",
   "pygments_lexer": "ipython3",
   "version": "3.7.4"
  }
 },
 "nbformat": 4,
 "nbformat_minor": 2
}
